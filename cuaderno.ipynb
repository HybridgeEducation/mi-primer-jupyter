{
 "cells": [
  {
   "cell_type": "code",
   "execution_count": 1,
   "id": "b17e5d35-2542-4753-bfdd-605251c9c28a",
   "metadata": {},
   "outputs": [],
   "source": [
    "x = 5\n",
    "y = 6"
   ]
  },
  {
   "cell_type": "code",
   "execution_count": 2,
   "id": "97530f09-08e6-4b59-b363-f5dd5d6404ed",
   "metadata": {},
   "outputs": [
    {
     "name": "stdout",
     "output_type": "stream",
     "text": [
      "11\n"
     ]
    }
   ],
   "source": [
    "print(x + y)"
   ]
  },
  {
   "cell_type": "markdown",
   "id": "df04324e-8fa2-44cb-873b-7f5334be22c4",
   "metadata": {},
   "source": [
    "# Título grande\n",
    "### Ecuación\n",
    "$$f(x) = x^2 + 6$$ "
   ]
  },
  {
   "cell_type": "code",
   "execution_count": null,
   "id": "3b53c7eb-0cc6-4566-9871-e8c4903b4ed0",
   "metadata": {},
   "outputs": [],
   "source": []
  }
 ],
 "metadata": {
  "kernelspec": {
   "display_name": "Python 3 (ipykernel)",
   "language": "python",
   "name": "python3"
  },
  "language_info": {
   "codemirror_mode": {
    "name": "ipython",
    "version": 3
   },
   "file_extension": ".py",
   "mimetype": "text/x-python",
   "name": "python",
   "nbconvert_exporter": "python",
   "pygments_lexer": "ipython3",
   "version": "3.11.4"
  }
 },
 "nbformat": 4,
 "nbformat_minor": 5
}
